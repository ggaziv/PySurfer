{
 "cells": [
  {
   "cell_type": "code",
   "execution_count": null,
   "metadata": {
    "collapsed": true
   },
   "outputs": [],
   "source": [
    ""
   ]
  },
  {
   "cell_type": "code",
   "execution_count": 17,
   "metadata": {},
   "outputs": [],
   "source": [
    "import os\n",
    "import numpy as np\n",
    "from numpy import *\n",
    "import matplotlib.pyplot as plt\n",
    "from matplotlib.colors import LinearSegmentedColormap\n",
    "from mayavi import mlab\n",
    "from tvtk.api import tvtk\n",
    "from tvtk.common import configure_input_data\n",
    "from surfer import Brain\n",
    "import nibabel as nib\n",
    "import experiments.utils as utils\n",
    "from importlib import reload\n",
    "\n",
    "os.environ['SUBJECTS_DIR'] = '/Users/admin/Dropbox (Weizmann Institute)/tunnel/freesurfer_subjects'\n",
    "cortical_maps_path = '/Users/admin/Dropbox (Weizmann Institute)/tunnel/cortical_maps'\n",
    "# cmap_GBR = LinearSegmentedColormap.from_list('mycmap', ['green', 'blue', 'red', ])\n",
    "cmap_GBR = LinearSegmentedColormap.from_list('mycmap', ['lime', 'blue', 'red', ])\n",
    "\n",
    "sbj_idx = 3\n",
    "sbj_fs_name = 'Kamitani_sbj%d' % sbj_idx\n",
    "# background_color = 'white'\n",
    "background_color = 'black'\n",
    "\n",
    "def add_rgba(fig, brain, rgba_vals, flatpatch=False):\n",
    "    x, y, z = brain.geo[hemi].coords.T\n",
    "    tris = brain.geo[hemi].faces\n",
    "    \n",
    "    mesh = mlab.pipeline.triangular_mesh_source(x, y, z, tris, figure=fig)\n",
    "    mesh.data.point_data.scalars.number_of_components = 4  # r, g, b, a\n",
    "    mesh.data.point_data.scalars = (rgba_vals * 255).astype('ubyte')\n",
    "    \n",
    "    mapper = tvtk.PolyDataMapper()\n",
    "    configure_input_data(mapper, mesh.data)\n",
    "    actor = tvtk.Actor()\n",
    "    actor.mapper = mapper\n",
    "    fig.scene.add_actor(actor)\n",
    "\n",
    "def get_scalar_data(overlay_name):\n",
    "    overlay_path = os.path.join(cortical_maps_path, overlay_name + '.nii')\n",
    "    return ravel(nib.load(overlay_path).get_data(), order='F')\n",
    "    \n",
    "def plot_brain(overlay_name, overlay_name_alpha, hemi, minmax=None, alpha_min=0.2, alpha_sat=90, flatpatch=True,  \n",
    "               cmap=plt.cm.rainbow, cortex='low_contrast'):\n",
    "    scalar_data = get_scalar_data(overlay_name + '_' + hemi)\n",
    "    scalar_data_alpha = get_scalar_data(overlay_name_alpha + '_' + hemi)\n",
    "\n",
    "    # if nanmedian(scalar_data) < 0:\n",
    "    #     scalar_data *= -1\n",
    "    scalar_data = abs(scalar_data)  # For polar angle\n",
    "    if minmax is None:\n",
    "        minmax = nanmin(scalar_data), nanmax(scalar_data)\n",
    "    print('min, max:', [round(v,2) for v in minmax])\n",
    "    hue = nan_to_num(interp(scalar_data, minmax, (0, 1)))\n",
    "    if cmap is None:\n",
    "        cmap = cmap_RBG\n",
    "    colors = cmap(hue)[:, :3]\n",
    "    alpha = (~np.isnan(scalar_data)).astype('float32')\n",
    "    alpha *= interp(scalar_data_alpha, (nanmin(scalar_data_alpha), np.nanpercentile(scalar_data_alpha, alpha_sat)), (alpha_min, 1))\n",
    "    rgba_vals = np.concatenate((colors, alpha[:, None]), axis=1)\n",
    "    \n",
    "    fig = mlab.figure()\n",
    "    if flatpatch:\n",
    "        b = Brain(sbj_fs_name, hemi, 'full.flat.patch.3d', background=background_color, figure=fig, cortex=cortex)\n",
    "        # print('original rgba_vals.shape:',rgba_vals.shape)\n",
    "        rgba_vals = b.geo[hemi].surf_to_patch_array(rgba_vals)\n",
    "        # print('patch-compatible rgba_vals.shape:',rgba_vals.shape)\n",
    "    \n",
    "        # cam = fig.scene.camera\n",
    "        # cam.zoom(1.85)\n",
    "        mlab.move(up=-40, right=((hemi == 'lh')*2-1)*50, forward=170)\n",
    "    else:\n",
    "        b = Brain(sbj_fs_name, hemi, 'inflated',  background=background_color, figure=fig, cortex=cortex,)\n",
    "        # mlab.view(azimuth=-77 if hemi == 'lh' else 253, elevation=115)\n",
    "        mlab.view(azimuth=-70 if hemi == 'lh' else 245, elevation=115)        \n",
    "        if hemi == 'rh':\n",
    "            # mlab.view(roll=152)\n",
    "            mlab.view(roll=144)\n",
    "            mlab.move(right=90)\n",
    "        else:  # lh\n",
    "            mlab.move(right=-90)\n",
    "                        \n",
    "        # cam = fig.scene.camera\n",
    "        # cam.view zoom(1.85)\n",
    "        \n",
    "    add_rgba(fig, b, rgba_vals)\n",
    "    # mlab.savefig(cortical_maps_path + '/pysurfer/{}_{}{}.tiff'.format(overlay_name, hemi, '_flat' if flatpatch else ''), figure=fig, magnification=5)\n",
    "    mlab.savefig(cortical_maps_path + '/pysurfer/{}_{}{}.tiff'.format(overlay_name, hemi, '_flat' if flatpatch else ''), figure=fig, magnification=2)    \n",
    "    # mlab.savefig(cortical_maps_path + '/pysurfer/{}_{}{}.tiff'.format(overlay_name, hemi, '_flat' if flatpatch else ''), figure=fig)"
   ]
  },
  {
   "cell_type": "code",
   "execution_count": 18,
   "metadata": {},
   "outputs": [
    {
     "name": "stdout",
     "output_type": "stream",
     "text": [
      "corr lh flat\ncorr rh flat\neccent lh flat\neccent rh flat\npolar lh flat\npolar rh flat\nrf_size lh flat\nmin, max: [2, 12]\n"
     ]
    },
    {
     "name": "stdout",
     "output_type": "stream",
     "text": [
      "rf_size lh \nmin, max: [2, 12]\n"
     ]
    },
    {
     "name": "stdout",
     "output_type": "stream",
     "text": [
      "rf_size rh flat\nmin, max: [2, 12]\n"
     ]
    },
    {
     "name": "stdout",
     "output_type": "stream",
     "text": [
      "rf_size rh \nmin, max: [2, 12]\n"
     ]
    }
   ],
   "source": [
    "data_items = {'corr': [None, plt.cm.hot], 'eccent': [None, plt.cm.plasma], 'polar': [(0,180), cmap_GBR], 'rf_size': [(2, 12), plt.cm.rainbow_r]}\n",
    "# plt.cm.rainbow\n",
    "# prefix = 'fsl_10k'\n",
    "prefix = '0804'\n",
    "overlay_name_alpha = '{}_snr_{}'.format(prefix, sbj_fs_name) \n",
    "\n",
    "for dataname, metadata in data_items.items():\n",
    "    for hemi in ['lh', 'rh']:\n",
    "        for flatpatch in [True, False]:\n",
    "            print(dataname, hemi, 'flat' if flatpatch else '')\n",
    "            overlay_name = '{}_{}_{}'.format(prefix, dataname, sbj_fs_name)\n",
    "            # if 'polar' not in overlay_name:\n",
    "            #     break\n",
    "            if 'rf_size' not in overlay_name:\n",
    "                break\n",
    "            plot_brain(overlay_name, overlay_name_alpha, hemi, \n",
    "                       minmax=metadata[0], alpha_min=0.15, alpha_sat=85, flatpatch=flatpatch,\n",
    "                       cmap=metadata[1], cortex='low_contrast')\n",
    "            # break"
   ]
  },
  {
   "cell_type": "code",
   "execution_count": 6,
   "metadata": {},
   "outputs": [],
   "source": [
    "scalar_data = get_scalar_data('0804_polar_Kamitani_sbj3_lh')"
   ]
  },
  {
   "cell_type": "code",
   "execution_count": 16,
   "metadata": {
    "collapsed": true
   },
   "outputs": [
    {
     "data": {
      "image/png": "[encoded data removed]",
      "text/plain": [
       "<Figure size 108x432 with 1 Axes>"
      ]
     },
     "metadata": {},
     "output_type": "display_data"
    }
   ],
   "source": [
    "# Make legends\n",
    "reload(utils)\n",
    "# \n",
    "# utils.make_polar_legend(cmap=cmap_GBR)\n",
    "# plt.savefig(cortical_maps_path + '/pysurfer/polar_legend.tiff', facecolor='black')\n",
    "# \n",
    "# utils.make_eccent_legend(cmap=plt.cm.plasma) \n",
    "# plt.savefig(cortical_maps_path + '/pysurfer/eccent_legend.tiff', facecolor='black')\n",
    "# \n",
    "# utils.make_legend(cmap=plt.cm.hot) \n",
    "# plt.savefig(cortical_maps_path + '/pysurfer/corr_legend.tiff', facecolor='black')\n",
    "\n",
    "# utils.make_legend(cmap=plt.cm.cool) \n",
    "utils.make_legend(cmap=plt.cm.rainbow_r)\n",
    "plt.savefig(cortical_maps_path + '/pysurfer/rf_size_legend.tiff', facecolor='black')"
   ]
  },
  {
   "cell_type": "code",
   "execution_count": 57,
   "metadata": {},
   "outputs": [
    {
     "data": {
      "text/plain": [
       "<matplotlib.colorbar.Colorbar at 0x28abe0400>"
      ]
     },
     "execution_count": 57,
     "metadata": {},
     "output_type": "execute_result"
    },
    {
     "data": {
      "image/png": "[encoded data removed]",
      "text/plain": [
       "<Figure size 648x108 with 2 Axes>"
      ]
     },
     "metadata": {},
     "output_type": "display_data"
    }
   ],
   "source": [
    "import pylab as pl\n",
    "import numpy as np"
   ]
  }
 ],
 "metadata": {
  "kernelspec": {
   "display_name": "Python 2",
   "language": "python",
   "name": "python2"
  },
  "language_info": {
   "codemirror_mode": {
    "name": "ipython",
    "version": 2.0
   },
   "file_extension": ".py",
   "mimetype": "text/x-python",
   "name": "python",
   "nbconvert_exporter": "python",
   "pygments_lexer": "ipython2",
   "version": "2.7.6"
  }
 },
 "nbformat": 4,
 "nbformat_minor": 0
}